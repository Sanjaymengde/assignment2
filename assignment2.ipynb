{
 "cells": [
  {
   "cell_type": "markdown",
   "id": "7330a9c5-4242-4dda-9401-8a2444a20b49",
   "metadata": {},
   "source": [
    "Q1. How do you comment code in Python? What are the different types of comments?"
   ]
  },
  {
   "cell_type": "code",
   "execution_count": null,
   "id": "dedefa7c-85a8-47df-ad09-ffafca9f7e85",
   "metadata": {},
   "outputs": [],
   "source": [
    "ans:In python we comment by using # \n",
    "    there are three types of comment in pytthon.\n",
    "    l1=[1,2,33.23,'sanjay'] #this is a list"
   ]
  },
  {
   "cell_type": "markdown",
   "id": "ebfb472f-0db8-459b-88cc-7bf1ed278ab0",
   "metadata": {},
   "source": [
    "Q2. What are variables in Python? How do you declare and assign values to variables?"
   ]
  },
  {
   "cell_type": "code",
   "execution_count": null,
   "id": "3e469df6-3663-41a5-a82f-da900dcd04a0",
   "metadata": {},
   "outputs": [],
   "source": [
    "ans:variables are used to store data or value like string,int,float,boolean etc.\n",
    "    A=25\n",
    "    A is a variable and 25 is value."
   ]
  },
  {
   "cell_type": "markdown",
   "id": "896fd029-113d-4d50-ac76-aa10f8d64d20",
   "metadata": {},
   "source": [
    "Q3. How do you convert one data type to another in Python?"
   ]
  },
  {
   "cell_type": "code",
   "execution_count": null,
   "id": "766ae612-ef60-4b36-95b6-432ceb30cfcd",
   "metadata": {},
   "outputs": [],
   "source": [
    "in python by using typecasting we convert one data type into another."
   ]
  },
  {
   "cell_type": "code",
   "execution_count": 12,
   "id": "b373f395-a702-4d0a-b44c-5d063a56572d",
   "metadata": {},
   "outputs": [
    {
     "data": {
      "text/plain": [
       "float"
      ]
     },
     "execution_count": 12,
     "metadata": {},
     "output_type": "execute_result"
    }
   ],
   "source": [
    "a=5\n",
    "b=float(a)\n",
    "type(b)"
   ]
  },
  {
   "cell_type": "markdown",
   "id": "bc4ed2e1-92c7-4604-a3e5-d7659c041483",
   "metadata": {},
   "source": [
    "Q4. How do you write and execute a Python script from the command line?"
   ]
  },
  {
   "cell_type": "code",
   "execution_count": 8,
   "id": "e74ccce2-c87a-46f8-bb77-d412aff3b099",
   "metadata": {},
   "outputs": [
    {
     "data": {
      "text/plain": [
       "list"
      ]
     },
     "execution_count": 8,
     "metadata": {},
     "output_type": "execute_result"
    }
   ],
   "source": [
    "\n",
    "l1=[1,2,3,'e','r',]\n",
    "type(l1)"
   ]
  },
  {
   "cell_type": "code",
   "execution_count": null,
   "id": "135f8173-12a2-45f5-83a6-cd3d7a448c10",
   "metadata": {},
   "outputs": [],
   "source": [
    "l1 is ecuted by using shift+enter"
   ]
  },
  {
   "cell_type": "markdown",
   "id": "e78eb007-fade-4221-bd75-ae32221059b1",
   "metadata": {},
   "source": [
    "Q5. Given a list my_list = [1, 2, 3, 4, 5], write the code to slice the list and obtain the sub-list [2, 3]."
   ]
  },
  {
   "cell_type": "code",
   "execution_count": 10,
   "id": "b663f511-6a0f-4e46-9f92-71bbfa6998f8",
   "metadata": {},
   "outputs": [
    {
     "data": {
      "text/plain": [
       "[2, 3]"
      ]
     },
     "execution_count": 10,
     "metadata": {},
     "output_type": "execute_result"
    }
   ],
   "source": [
    "my_list=[1,2,3,4,5]\n",
    "my_list[1:3]"
   ]
  },
  {
   "cell_type": "markdown",
   "id": "01b3e194-b0dd-44e7-ab97-af993d38e6dc",
   "metadata": {},
   "source": [
    "Q6. What is a complex number in mathematics, and how is it represented in Python?"
   ]
  },
  {
   "cell_type": "code",
   "execution_count": null,
   "id": "05b272bf-76c7-43b7-8458-3ac75c430052",
   "metadata": {},
   "outputs": [],
   "source": [
    "in mathematics complex variable is i is s=5+8i\n",
    "in python complex  variable is j."
   ]
  },
  {
   "cell_type": "code",
   "execution_count": 9,
   "id": "f59c4138-20f7-42f3-98e6-b6bed1683e08",
   "metadata": {},
   "outputs": [
    {
     "data": {
      "text/plain": [
       "complex"
      ]
     },
     "execution_count": 9,
     "metadata": {},
     "output_type": "execute_result"
    }
   ],
   "source": [
    "s=5+9j\n",
    "type(s)"
   ]
  },
  {
   "cell_type": "markdown",
   "id": "1b5d2b59-0fe9-42fe-b302-bf94a1735d7d",
   "metadata": {},
   "source": [
    "Q7. What is the correct way to declare a variable named age and assign the value 25 to it?"
   ]
  },
  {
   "cell_type": "code",
   "execution_count": 7,
   "id": "b379d0d9-19d9-41db-ab92-137c784e9c1c",
   "metadata": {},
   "outputs": [
    {
     "name": "stdout",
     "output_type": "stream",
     "text": [
      "25\n"
     ]
    }
   ],
   "source": [
    "age=25\n",
    "print(age)"
   ]
  },
  {
   "cell_type": "markdown",
   "id": "988d9864-258a-45de-a744-62a2e5c7decb",
   "metadata": {},
   "source": [
    "Q8. Declare a variable named price and assign the value 9.99 to it. What data type does this variable\n",
    "belong to?"
   ]
  },
  {
   "cell_type": "code",
   "execution_count": 12,
   "id": "0a16d8a6-fc9c-45f9-8ee2-ed3b90eae79a",
   "metadata": {},
   "outputs": [
    {
     "data": {
      "text/plain": [
       "float"
      ]
     },
     "execution_count": 12,
     "metadata": {},
     "output_type": "execute_result"
    }
   ],
   "source": [
    "price=9.99\n",
    "type(price)"
   ]
  },
  {
   "cell_type": "markdown",
   "id": "d517ea42-76ce-4d1c-b317-502287ebc335",
   "metadata": {},
   "source": [
    "Q9. Create a variable named name and assign your full name to it as a string. How would you print the\n",
    "value of this variable?"
   ]
  },
  {
   "cell_type": "code",
   "execution_count": 13,
   "id": "1da199d3-b0eb-4820-8ca2-067943d1c95f",
   "metadata": {},
   "outputs": [
    {
     "name": "stdout",
     "output_type": "stream",
     "text": [
      "sanjay vishwas mengde\n"
     ]
    }
   ],
   "source": [
    "name=\"sanjay vishwas mengde\"\n",
    "print(name)"
   ]
  },
  {
   "cell_type": "markdown",
   "id": "98f3b74e-5e42-4d08-883d-a4ec4926fe44",
   "metadata": {},
   "source": [
    "Q10. Given the string \"Hello, World!\", extract the substring \"World\"."
   ]
  },
  {
   "cell_type": "code",
   "execution_count": 14,
   "id": "61c8861b-def4-45ef-bfc9-926f22df241b",
   "metadata": {},
   "outputs": [
    {
     "data": {
      "text/plain": [
       "'World'"
      ]
     },
     "execution_count": 14,
     "metadata": {},
     "output_type": "execute_result"
    }
   ],
   "source": [
    "s1=\"Hello,World!\"\n",
    "s1[6:11]"
   ]
  },
  {
   "cell_type": "markdown",
   "id": "0d5368e8-4f60-4a4d-b11a-5aaae1b3f47f",
   "metadata": {},
   "source": [
    "Q11. Create a variable named \"is_student\" and assign it a boolean value indicating whether you are\n",
    "currently a student or not."
   ]
  },
  {
   "cell_type": "code",
   "execution_count": 4,
   "id": "8069bc09-3602-4ac1-b35e-e10e91cdd6cb",
   "metadata": {},
   "outputs": [
    {
     "name": "stdout",
     "output_type": "stream",
     "text": [
      "i am a student\n"
     ]
    }
   ],
   "source": [
    "is_student=True\n",
    "if is_student==True:\n",
    "    print(\"i am a student\")\n",
    "else:\n",
    "    print(\"i am not a student\")"
   ]
  },
  {
   "cell_type": "code",
   "execution_count": null,
   "id": "c3d13ea7-9f38-4188-9b34-cdc7851b55ad",
   "metadata": {},
   "outputs": [],
   "source": []
  }
 ],
 "metadata": {
  "kernelspec": {
   "display_name": "Python 3 (ipykernel)",
   "language": "python",
   "name": "python3"
  },
  "language_info": {
   "codemirror_mode": {
    "name": "ipython",
    "version": 3
   },
   "file_extension": ".py",
   "mimetype": "text/x-python",
   "name": "python",
   "nbconvert_exporter": "python",
   "pygments_lexer": "ipython3",
   "version": "3.10.8"
  }
 },
 "nbformat": 4,
 "nbformat_minor": 5
}
